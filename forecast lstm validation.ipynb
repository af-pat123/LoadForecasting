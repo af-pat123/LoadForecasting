{
 "cells": [
  {
   "cell_type": "code",
   "execution_count": 1,
   "metadata": {},
   "outputs": [
    {
     "name": "stderr",
     "output_type": "stream",
     "text": [
      "Using TensorFlow backend.\n"
     ]
    }
   ],
   "source": [
    "import pandas as pd\n",
    "import numpy as np\n",
    "import datetime as dt\n",
    "import keras\n",
    "import time\n",
    "from keras.models import Sequential\n",
    "from keras.layers import Dense\n",
    "from keras.layers import Flatten\n",
    "from keras.layers.convolutional import Conv1D\n",
    "from keras.layers.convolutional import MaxPooling1D\n",
    "from keras.layers import LSTM\n",
    "from keras.layers import RepeatVector\n",
    "from keras.layers import TimeDistributed"
   ]
  },
  {
   "cell_type": "code",
   "execution_count": 2,
   "metadata": {},
   "outputs": [
    {
     "name": "stdout",
     "output_type": "stream",
     "text": [
      "                    Date  Hour  DryBulb  DewPnt  SYSLoad   NumDate\n",
      "0  2004-01-01 00:00:00.0     1       37      25    12230  732000.0\n",
      "1  2004-01-01 00:00:00.0     2       37      25    11534  732000.0\n",
      "2  2004-01-01 00:00:00.0     3       39      24    11038  732000.0\n",
      "3  2004-01-01 00:00:00.0     4       38      22    10777  732000.0\n",
      "4  2004-01-01 00:00:00.0     5       37      20    10764  732000.0\n"
     ]
    }
   ],
   "source": [
    "#read data from csv file\n",
    "dat=pd.read_csv('Book3.csv')\n",
    "print(dat.head())"
   ]
  },
  {
   "cell_type": "code",
   "execution_count": 3,
   "metadata": {},
   "outputs": [
    {
     "data": {
      "text/plain": [
       "Date       datetime64[ns]\n",
       "Holiday            object\n",
       "dtype: object"
      ]
     },
     "execution_count": 3,
     "metadata": {},
     "output_type": "execute_result"
    }
   ],
   "source": [
    "hdata=pd.read_excel('Holidays.xls')\n",
    "hdata.dtypes"
   ]
  },
  {
   "cell_type": "code",
   "execution_count": 4,
   "metadata": {},
   "outputs": [
    {
     "data": {
      "text/plain": [
       "0   2004-01-01\n",
       "1   2004-01-19\n",
       "2   2004-02-16\n",
       "3   2004-05-31\n",
       "4   2004-07-05\n",
       "Name: Date, dtype: datetime64[ns]"
      ]
     },
     "execution_count": 4,
     "metadata": {},
     "output_type": "execute_result"
    }
   ],
   "source": [
    "holidays=hdata.Date\n",
    "holidays.head()"
   ]
  },
  {
   "cell_type": "code",
   "execution_count": 5,
   "metadata": {},
   "outputs": [
    {
     "data": {
      "text/plain": [
       "Date       datetime64[ns]\n",
       "Hour                int64\n",
       "DryBulb             int64\n",
       "DewPnt              int64\n",
       "SYSLoad             int64\n",
       "NumDate           float64\n",
       "dtype: object"
      ]
     },
     "execution_count": 5,
     "metadata": {},
     "output_type": "execute_result"
    }
   ],
   "source": [
    "dat['Date']=pd.to_datetime(dat['Date'])\n",
    "dat.dtypes"
   ]
  },
  {
   "cell_type": "code",
   "execution_count": 6,
   "metadata": {},
   "outputs": [
    {
     "data": {
      "text/plain": [
       "0    3\n",
       "1    3\n",
       "2    3\n",
       "3    3\n",
       "4    3\n",
       "Name: Date, dtype: int64"
      ]
     },
     "execution_count": 6,
     "metadata": {},
     "output_type": "execute_result"
    }
   ],
   "source": [
    "dayofweek=dat.Date.dt.weekday\n",
    "dayofweek.head()"
   ]
  },
  {
   "cell_type": "code",
   "execution_count": 7,
   "metadata": {},
   "outputs": [
    {
     "data": {
      "text/plain": [
       "False"
      ]
     },
     "execution_count": 7,
     "metadata": {},
     "output_type": "execute_result"
    }
   ],
   "source": [
    "isworkday = np.in1d(dayofweek,[0,1,2,3,4]) & ~np.in1d(dat['Date'],holidays)\n",
    "isworkday[22]"
   ]
  },
  {
   "cell_type": "code",
   "execution_count": 8,
   "metadata": {},
   "outputs": [
    {
     "data": {
      "text/plain": [
       "(52608,)"
      ]
     },
     "execution_count": 8,
     "metadata": {},
     "output_type": "execute_result"
    }
   ],
   "source": [
    "import scipy\n",
    "import scipy.signal\n",
    "#By using the lfilter method get the previous 24 hour averrage temperature \n",
    "prev24houravg = scipy.signal.lfilter(np.ones(24) / 24, 1, dat['SYSLoad'])\n",
    "prev24houravg.shape"
   ]
  },
  {
   "cell_type": "code",
   "execution_count": 9,
   "metadata": {},
   "outputs": [
    {
     "data": {
      "text/plain": [
       "(52608,)"
      ]
     },
     "execution_count": 9,
     "metadata": {},
     "output_type": "execute_result"
    }
   ],
   "source": [
    "prevweeksamehour=np.hstack(((np.ones(168)*-1),(dat['SYSLoad'][167:-1])))\n",
    "prevweeksamehour.shape"
   ]
  },
  {
   "cell_type": "code",
   "execution_count": 10,
   "metadata": {},
   "outputs": [
    {
     "data": {
      "text/plain": [
       "(52608,)"
      ]
     },
     "execution_count": 10,
     "metadata": {},
     "output_type": "execute_result"
    }
   ],
   "source": [
    "prevdaysamehour=np.hstack(((np.ones(24)*-1),(dat['SYSLoad'][23:-1])))\n",
    "prevdaysamehour.shape"
   ]
  },
  {
   "cell_type": "code",
   "execution_count": 25,
   "metadata": {},
   "outputs": [],
   "source": [
    "def split_inputs(data):\n",
    "    trainInd = dat.Date < dt.datetime(2008, 1, 1) \n",
    "    train = data[trainInd,:]\n",
    "    train= train[168:,:]\n",
    "    valid=data[35064:43848]\n",
    "    return train, valid"
   ]
  },
  {
   "cell_type": "code",
   "execution_count": 26,
   "metadata": {},
   "outputs": [
    {
     "data": {
      "text/plain": [
       "(52608, 9)"
      ]
     },
     "execution_count": 26,
     "metadata": {},
     "output_type": "execute_result"
    }
   ],
   "source": [
    "#combine both output in the first column and inputs in the next 8 columns\n",
    "data = np.vstack((dat['SYSLoad'],dat['DryBulb'],dat['DewPnt'],dat['Hour'],dayofweek,isworkday,prevweeksamehour,prevdaysamehour,prev24houravg))\n",
    "data=np.transpose(data)\n",
    "data.shape"
   ]
  },
  {
   "cell_type": "code",
   "execution_count": 27,
   "metadata": {},
   "outputs": [],
   "source": [
    "train, valid = split_inputs(data)"
   ]
  },
  {
   "cell_type": "code",
   "execution_count": 28,
   "metadata": {},
   "outputs": [],
   "source": [
    "# organize the data into inputs of size n_rows x 8 and outputs 1 x n_rows. Each LSTM cell will ouput a value for that timestep\n",
    "# and the value will be compared with the expected output in order to decide the optimal number of LSTM cells \n",
    "def organize_data(data, n_rows):\n",
    "    # flatten data\n",
    "    X, y = list(), list()\n",
    "    start = 0\n",
    "    # organize each input in the set\n",
    "    for _ in range(len(data)):\n",
    "        #define the last row of the input\n",
    "        end = start + n_rows\n",
    "\n",
    "        # check that we havent reached the end of the dataset\n",
    "        if end <= len(data):\n",
    "            X.append(data[start:end, 1:n_rows])\n",
    "            y.append(data[start:end, 0])\n",
    "        # move to next input\n",
    "        start += 1\n",
    "    return np.array(X), np.array(y)"
   ]
  },
  {
   "cell_type": "code",
   "execution_count": 30,
   "metadata": {},
   "outputs": [],
   "source": [
    "#define the number of timesteps or rows that will be in each input\n",
    "n_inputs=12\n",
    "train_x,train_y = organize_data(train,n_inputs)\n",
    "valid_x,valid_y = organize_data(valid,n_inputs)"
   ]
  },
  {
   "cell_type": "code",
   "execution_count": null,
   "metadata": {},
   "outputs": [],
   "source": []
  },
  {
   "cell_type": "code",
   "execution_count": 16,
   "metadata": {},
   "outputs": [
    {
     "name": "stdout",
     "output_type": "stream",
     "text": [
      "WARNING:tensorflow:From C:\\Users\\afzal\\Anaconda3\\lib\\site-packages\\tensorflow\\python\\framework\\op_def_library.py:263: colocate_with (from tensorflow.python.framework.ops) is deprecated and will be removed in a future version.\n",
      "Instructions for updating:\n",
      "Colocations handled automatically by placer.\n"
     ]
    }
   ],
   "source": [
    "n_timesteps, n_features, n_outputs = train_x.shape[1], train_x.shape[2], train_y.shape[1]\n",
    "\n",
    "train_y = train_y.reshape((train_y.shape[0], train_y.shape[1], 1))\n",
    "# define model\n",
    "model = Sequential()\n",
    "#Each LSTM cell will have an output then go through a dense layer of size 50\n",
    "model.add(LSTM(50, activation='relu', input_shape=(n_timesteps, n_features),return_sequences=True))\n",
    "model.add(Dense(50,activation='relu'))\n",
    "model.add(Dense(1))\n",
    "model.compile(loss='mae', optimizer='adam')\n"
   ]
  },
  {
   "cell_type": "code",
   "execution_count": 17,
   "metadata": {},
   "outputs": [
    {
     "name": "stdout",
     "output_type": "stream",
     "text": [
      "WARNING:tensorflow:From C:\\Users\\afzal\\Anaconda3\\lib\\site-packages\\tensorflow\\python\\ops\\math_ops.py:3066: to_int32 (from tensorflow.python.ops.math_ops) is deprecated and will be removed in a future version.\n",
      "Instructions for updating:\n",
      "Use tf.cast instead.\n",
      "Epoch 1/55\n",
      "34885/34885 [==============================] - 8s 239us/step - loss: 4602.2450\n",
      "Epoch 2/55\n",
      "34885/34885 [==============================] - 4s 115us/step - loss: 1596.4854\n",
      "Epoch 3/55\n",
      "34885/34885 [==============================] - 4s 119us/step - loss: 892.4307\n",
      "Epoch 4/55\n",
      "34885/34885 [==============================] - 4s 128us/step - loss: 646.4742 0s - loss\n",
      "Epoch 5/55\n",
      "34885/34885 [==============================] - 5s 131us/step - loss: 575.3895\n",
      "Epoch 6/55\n",
      "34885/34885 [==============================] - 4s 112us/step - loss: 530.1737\n",
      "Epoch 7/55\n",
      "34885/34885 [==============================] - 4s 112us/step - loss: 497.1620\n",
      "Epoch 8/55\n",
      "34885/34885 [==============================] - 4s 114us/step - loss: 467.0949\n",
      "Epoch 9/55\n",
      "34885/34885 [==============================] - 4s 118us/step - loss: 443.3807\n",
      "Epoch 10/55\n",
      "34885/34885 [==============================] - 4s 111us/step - loss: 437.5773\n",
      "Epoch 11/55\n",
      "34885/34885 [==============================] - 4s 119us/step - loss: 417.6564\n",
      "Epoch 12/55\n",
      "34885/34885 [==============================] - 4s 111us/step - loss: 411.3566\n",
      "Epoch 13/55\n",
      "34885/34885 [==============================] - 4s 112us/step - loss: 407.1834\n",
      "Epoch 14/55\n",
      "34885/34885 [==============================] - 4s 112us/step - loss: 412.2345\n",
      "Epoch 15/55\n",
      "34885/34885 [==============================] - 4s 114us/step - loss: 400.3657 1\n",
      "Epoch 16/55\n",
      "34885/34885 [==============================] - 4s 123us/step - loss: 390.1248\n",
      "Epoch 17/55\n",
      "34885/34885 [==============================] - 5s 129us/step - loss: 388.3910\n",
      "Epoch 18/55\n",
      "34885/34885 [==============================] - 5s 152us/step - loss: 382.4020\n",
      "Epoch 19/55\n",
      "34885/34885 [==============================] - 5s 148us/step - loss: 373.9786\n",
      "Epoch 20/55\n",
      "34885/34885 [==============================] - 6s 167us/step - loss: 370.7755\n",
      "Epoch 21/55\n",
      "34885/34885 [==============================] - 5s 141us/step - loss: 367.3268\n",
      "Epoch 22/55\n",
      "34885/34885 [==============================] - 6s 171us/step - loss: 361.0645\n",
      "Epoch 23/55\n",
      "34885/34885 [==============================] - 6s 160us/step - loss: 355.0927\n",
      "Epoch 24/55\n",
      "34885/34885 [==============================] - 6s 170us/step - loss: 348.4635\n",
      "Epoch 25/55\n",
      "34885/34885 [==============================] - 5s 144us/step - loss: 343.7139\n",
      "Epoch 26/55\n",
      "34885/34885 [==============================] - 5s 137us/step - loss: 334.9451\n",
      "Epoch 27/55\n",
      "34885/34885 [==============================] - 6s 164us/step - loss: 338.3352\n",
      "Epoch 28/55\n",
      "34885/34885 [==============================] - 6s 180us/step - loss: 331.2962\n",
      "Epoch 29/55\n",
      "34885/34885 [==============================] - 7s 211us/step - loss: 325.6407\n",
      "Epoch 30/55\n",
      "34885/34885 [==============================] - 7s 212us/step - loss: 319.0452\n",
      "Epoch 31/55\n",
      "34885/34885 [==============================] - 4s 121us/step - loss: 319.5340\n",
      "Epoch 32/55\n",
      "34885/34885 [==============================] - 4s 118us/step - loss: 318.0802\n",
      "Epoch 33/55\n",
      "34885/34885 [==============================] - 4s 115us/step - loss: 313.3830\n",
      "Epoch 34/55\n",
      "34885/34885 [==============================] - 4s 120us/step - loss: 311.4127\n",
      "Epoch 35/55\n",
      "34885/34885 [==============================] - 5s 136us/step - loss: 306.1080\n",
      "Epoch 36/55\n",
      "34885/34885 [==============================] - 5s 140us/step - loss: 305.0644\n",
      "Epoch 37/55\n",
      "34885/34885 [==============================] - 6s 160us/step - loss: 307.3063\n",
      "Epoch 38/55\n",
      "34885/34885 [==============================] - 5s 131us/step - loss: 303.1302\n",
      "Epoch 39/55\n",
      "34885/34885 [==============================] - 4s 119us/step - loss: 300.4746\n",
      "Epoch 40/55\n",
      "34885/34885 [==============================] - 4s 121us/step - loss: 292.6765\n",
      "Epoch 41/55\n",
      "34885/34885 [==============================] - 4s 128us/step - loss: 294.6034\n",
      "Epoch 42/55\n",
      "34885/34885 [==============================] - 4s 123us/step - loss: 288.9205\n",
      "Epoch 43/55\n",
      "34885/34885 [==============================] - 4s 122us/step - loss: 289.6850\n",
      "Epoch 44/55\n",
      "34885/34885 [==============================] - 4s 111us/step - loss: 286.6560\n",
      "Epoch 45/55\n",
      "34885/34885 [==============================] - 4s 109us/step - loss: 285.2171\n",
      "Epoch 46/55\n",
      "34885/34885 [==============================] - 4s 117us/step - loss: 292.4766 0s -\n",
      "Epoch 47/55\n",
      "34885/34885 [==============================] - 4s 125us/step - loss: 285.5136 \n",
      "Epoch 48/55\n",
      "34885/34885 [==============================] - 4s 114us/step - loss: 279.7145\n",
      "Epoch 49/55\n",
      "34885/34885 [==============================] - 4s 114us/step - loss: 279.1404\n",
      "Epoch 50/55\n",
      "34885/34885 [==============================] - 4s 110us/step - loss: 276.9403\n",
      "Epoch 51/55\n",
      "34885/34885 [==============================] - 4s 115us/step - loss: 273.8203 0s - loss: 273\n",
      "Epoch 52/55\n",
      "34885/34885 [==============================] - 5s 149us/step - loss: 292.6995\n",
      "Epoch 53/55\n",
      "34885/34885 [==============================] - 5s 130us/step - loss: 278.9094\n",
      "Epoch 54/55\n",
      "34885/34885 [==============================] - 4s 104us/step - loss: 277.4319\n",
      "Epoch 55/55\n",
      "34885/34885 [==============================] - 4s 108us/step - loss: 271.9084\n"
     ]
    },
    {
     "data": {
      "text/plain": [
       "258.0529975891113"
      ]
     },
     "execution_count": 17,
     "metadata": {},
     "output_type": "execute_result"
    }
   ],
   "source": [
    "start_time = time.time()\n",
    "model.fit(train_x, train_y, epochs=55, batch_size=250, verbose=1)\n",
    "time.time() - start_time"
   ]
  },
  {
   "cell_type": "code",
   "execution_count": null,
   "metadata": {},
   "outputs": [],
   "source": []
  },
  {
   "cell_type": "code",
   "execution_count": 18,
   "metadata": {},
   "outputs": [],
   "source": [
    "predictions=model.predict(valid_x)"
   ]
  },
  {
   "cell_type": "code",
   "execution_count": 19,
   "metadata": {},
   "outputs": [
    {
     "data": {
      "text/plain": [
       "255.71885949640708"
      ]
     },
     "execution_count": 19,
     "metadata": {},
     "output_type": "execute_result"
    }
   ],
   "source": [
    "valid_y = valid_y.reshape((valid_y.shape[0], valid_y.shape[1],1))\n",
    "error=valid_y-predictions\n",
    "mae=np.mean(np.absolute(error))\n",
    "mae"
   ]
  },
  {
   "cell_type": "code",
   "execution_count": 20,
   "metadata": {},
   "outputs": [
    {
     "data": {
      "text/plain": [
       "1.7020941436606616"
      ]
     },
     "execution_count": 20,
     "metadata": {},
     "output_type": "execute_result"
    }
   ],
   "source": [
    "errorpercent=np.absolute(error)/valid_y\n",
    "mape=np.mean(errorpercent)*100\n",
    "mape"
   ]
  },
  {
   "cell_type": "code",
   "execution_count": 21,
   "metadata": {},
   "outputs": [
    {
     "data": {
      "text/plain": [
       "(8773, 12)"
      ]
     },
     "execution_count": 21,
     "metadata": {},
     "output_type": "execute_result"
    }
   ],
   "source": [
    "error = error.reshape((error.shape[0], error.shape[1]))\n",
    "valid_y = valid_y.reshape((valid_y.shape[0], valid_y.shape[1]))\n",
    "#calculate the error for each output individually\n",
    "e=pd.DataFrame(100*np.absolute(error)/valid_y)\n",
    "#average the error of each column in order to see what number of LSTM cells works best \n",
    "p=e.mean(axis=0)-1\n",
    "e.shape"
   ]
  },
  {
   "cell_type": "code",
   "execution_count": null,
   "metadata": {},
   "outputs": [],
   "source": []
  },
  {
   "cell_type": "code",
   "execution_count": 23,
   "metadata": {},
   "outputs": [
    {
     "data": {
      "image/png": "[encoded data removed]",
      "text/plain": [
       "<Figure size 432x288 with 1 Axes>"
      ]
     },
     "metadata": {
      "needs_background": "light"
     },
     "output_type": "display_data"
    }
   ],
   "source": [
    "import matplotlib.pyplot as plt\n",
    "x=list(range(1,13))\n",
    "y=p\n",
    "plt.plot(x,y)\n",
    "plt.xlabel('number of LSTM cells')\n",
    "plt.ylabel('Mean Absolute Error')\n",
    "plt.show()"
   ]
  },
  {
   "cell_type": "code",
   "execution_count": null,
   "metadata": {},
   "outputs": [],
   "source": []
  },
  {
   "cell_type": "code",
   "execution_count": null,
   "metadata": {},
   "outputs": [],
   "source": []
  },
  {
   "cell_type": "code",
   "execution_count": null,
   "metadata": {},
   "outputs": [],
   "source": []
  },
  {
   "cell_type": "code",
   "execution_count": null,
   "metadata": {},
   "outputs": [],
   "source": []
  },
  {
   "cell_type": "code",
   "execution_count": null,
   "metadata": {},
   "outputs": [],
   "source": []
  },
  {
   "cell_type": "code",
   "execution_count": null,
   "metadata": {},
   "outputs": [],
   "source": []
  },
  {
   "cell_type": "code",
   "execution_count": null,
   "metadata": {},
   "outputs": [],
   "source": []
  },
  {
   "cell_type": "code",
   "execution_count": null,
   "metadata": {},
   "outputs": [],
   "source": []
  }
 ],
 "metadata": {
  "kernelspec": {
   "display_name": "Python 3",
   "language": "python",
   "name": "python3"
  },
  "language_info": {
   "codemirror_mode": {
    "name": "ipython",
    "version": 3
   },
   "file_extension": ".py",
   "mimetype": "text/x-python",
   "name": "python",
   "nbconvert_exporter": "python",
   "pygments_lexer": "ipython3",
   "version": "3.6.8"
  }
 },
 "nbformat": 4,
 "nbformat_minor": 2
}
