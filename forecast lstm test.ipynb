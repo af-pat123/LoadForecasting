{
 "cells": [
  {
   "cell_type": "code",
   "execution_count": 2,
   "metadata": {},
   "outputs": [
    {
     "name": "stderr",
     "output_type": "stream",
     "text": [
      "Using TensorFlow backend.\n"
     ]
    }
   ],
   "source": [
    "import pandas as pd\n",
    "import numpy as np\n",
    "import datetime as dt\n",
    "import keras\n",
    "import time\n",
    "from keras.models import Sequential\n",
    "from keras.layers import Dense\n",
    "from keras.layers import Flatten\n",
    "from keras.layers.convolutional import Conv1D\n",
    "from keras.layers.convolutional import MaxPooling1D\n",
    "from keras.layers import LSTM\n",
    "from keras.layers import RepeatVector\n",
    "from keras.layers import TimeDistributed"
   ]
  },
  {
   "cell_type": "code",
   "execution_count": 3,
   "metadata": {},
   "outputs": [
    {
     "name": "stdout",
     "output_type": "stream",
     "text": [
      "                    Date  Hour  DryBulb  DewPnt  SYSLoad   NumDate\n",
      "0  2004-01-01 00:00:00.0     1       37      25    12230  732000.0\n",
      "1  2004-01-01 00:00:00.0     2       37      25    11534  732000.0\n",
      "2  2004-01-01 00:00:00.0     3       39      24    11038  732000.0\n",
      "3  2004-01-01 00:00:00.0     4       38      22    10777  732000.0\n",
      "4  2004-01-01 00:00:00.0     5       37      20    10764  732000.0\n"
     ]
    }
   ],
   "source": [
    "#read data from csv file\n",
    "dat=pd.read_csv('Book3.csv')\n",
    "print(dat.head())"
   ]
  },
  {
   "cell_type": "code",
   "execution_count": 4,
   "metadata": {},
   "outputs": [
    {
     "data": {
      "text/plain": [
       "Date       datetime64[ns]\n",
       "Holiday            object\n",
       "dtype: object"
      ]
     },
     "execution_count": 4,
     "metadata": {},
     "output_type": "execute_result"
    }
   ],
   "source": [
    "hdata=pd.read_excel('Holidays.xls')\n",
    "hdata.dtypes"
   ]
  },
  {
   "cell_type": "code",
   "execution_count": 5,
   "metadata": {},
   "outputs": [
    {
     "data": {
      "text/plain": [
       "0   2004-01-01\n",
       "1   2004-01-19\n",
       "2   2004-02-16\n",
       "3   2004-05-31\n",
       "4   2004-07-05\n",
       "Name: Date, dtype: datetime64[ns]"
      ]
     },
     "execution_count": 5,
     "metadata": {},
     "output_type": "execute_result"
    }
   ],
   "source": [
    "holidays=hdata.Date\n",
    "holidays.head()"
   ]
  },
  {
   "cell_type": "code",
   "execution_count": 39,
   "metadata": {},
   "outputs": [
    {
     "data": {
      "text/plain": [
       "Date       datetime64[ns]\n",
       "Hour                int64\n",
       "DryBulb             int64\n",
       "DewPnt              int64\n",
       "SYSLoad             int64\n",
       "NumDate           float64\n",
       "dtype: object"
      ]
     },
     "execution_count": 39,
     "metadata": {},
     "output_type": "execute_result"
    }
   ],
   "source": [
    "dat['Date']=pd.to_datetime(dat['Date'])\n",
    "dat.dtypes"
   ]
  },
  {
   "cell_type": "code",
   "execution_count": 40,
   "metadata": {},
   "outputs": [
    {
     "data": {
      "text/plain": [
       "0    3\n",
       "1    3\n",
       "2    3\n",
       "3    3\n",
       "4    3\n",
       "Name: Date, dtype: int64"
      ]
     },
     "execution_count": 40,
     "metadata": {},
     "output_type": "execute_result"
    }
   ],
   "source": [
    "dayofweek=dat.Date.dt.weekday\n",
    "dayofweek.head()"
   ]
  },
  {
   "cell_type": "code",
   "execution_count": 81,
   "metadata": {},
   "outputs": [
    {
     "data": {
      "text/plain": [
       "False"
      ]
     },
     "execution_count": 81,
     "metadata": {},
     "output_type": "execute_result"
    }
   ],
   "source": [
    "isworkday = np.in1d(dayofweek,[0,1,2,3,4]) & ~np.in1d(dat['Date'],holidays)\n",
    "isworkday[22]"
   ]
  },
  {
   "cell_type": "code",
   "execution_count": 82,
   "metadata": {},
   "outputs": [
    {
     "data": {
      "text/plain": [
       "(52608,)"
      ]
     },
     "execution_count": 82,
     "metadata": {},
     "output_type": "execute_result"
    }
   ],
   "source": [
    "import scipy\n",
    "import scipy.signal\n",
    "#By using the lfilter method get the previous 24 hour averrage temperature \n",
    "prev24houravg = scipy.signal.lfilter(np.ones(24) / 24, 1, dat['SYSLoad'])\n",
    "prev24houravg.shape"
   ]
  },
  {
   "cell_type": "code",
   "execution_count": 83,
   "metadata": {},
   "outputs": [
    {
     "data": {
      "text/plain": [
       "(52608,)"
      ]
     },
     "execution_count": 83,
     "metadata": {},
     "output_type": "execute_result"
    }
   ],
   "source": [
    "prevweeksamehour=np.hstack(((np.ones(168)*-1),(dat['SYSLoad'][167:-1])))\n",
    "prevweeksamehour.shape"
   ]
  },
  {
   "cell_type": "code",
   "execution_count": 100,
   "metadata": {},
   "outputs": [
    {
     "data": {
      "text/plain": [
       "(52608,)"
      ]
     },
     "execution_count": 100,
     "metadata": {},
     "output_type": "execute_result"
    }
   ],
   "source": [
    "prevdaysamehour=np.hstack(((np.ones(24)*-1),(dat['SYSLoad'][23:-1])))\n",
    "prevdaysamehour.shape"
   ]
  },
  {
   "cell_type": "code",
   "execution_count": 214,
   "metadata": {},
   "outputs": [],
   "source": [
    "# split a univariate dataset into train/test sets\n",
    "def split_inputs(data):\n",
    "    trainInd = dat.Date < dt.datetime(2008, 1, 1) \n",
    "    train = data[trainInd,:]\n",
    "    #get rid of the first 168 rows because one of the columns has null values\n",
    "    train= train[168:,:]\n",
    "    \n",
    "    testInd = dat.Date>= dt.datetime(2009, 1, 1)\n",
    "    test=data[testInd,:]\n",
    "    return train, test"
   ]
  },
  {
   "cell_type": "code",
   "execution_count": 247,
   "metadata": {},
   "outputs": [
    {
     "data": {
      "text/plain": [
       "(52608, 8)"
      ]
     },
     "execution_count": 247,
     "metadata": {},
     "output_type": "execute_result"
    }
   ],
   "source": [
    "X = np.vstack((dat['DryBulb'],dat['DewPnt'],dat['Hour'],dayofweek,isworkday,prevweeksamehour,prevdaysamehour,prev24houravg))\n",
    "X=np.transpose(X)\n",
    "X.shape"
   ]
  },
  {
   "cell_type": "code",
   "execution_count": 248,
   "metadata": {},
   "outputs": [
    {
     "data": {
      "text/plain": [
       "(34896, 8)"
      ]
     },
     "execution_count": 248,
     "metadata": {},
     "output_type": "execute_result"
    }
   ],
   "source": [
    "train_x, test_x = split_inputs(X)\n",
    "train_x.shape"
   ]
  },
  {
   "cell_type": "code",
   "execution_count": 249,
   "metadata": {},
   "outputs": [],
   "source": [
    "# organize the inputs of the network such that each input is 2 dimensions of size n_rowsx8 \n",
    "def organize_inputs(data, n_rows):\n",
    "    X = list()\n",
    "    start = 0\n",
    "    # organize each input in the set\n",
    "    for _ in range(len(data)):\n",
    "        #define the last row of the input\n",
    "        end = start + n_rows\n",
    "         # check that we havent reached the end of the dataset\n",
    "        if end <= len(data):\n",
    "            X.append(data[start:end, 0:8])\n",
    "\n",
    "\n",
    "        start += 1    \n",
    "    return np.array(X)\n"
   ]
  },
  {
   "cell_type": "code",
   "execution_count": 250,
   "metadata": {},
   "outputs": [],
   "source": [
    "#define the number of timesteps or rows that will be in each input\n",
    "n_rows=8\n",
    "train_x = organize_inputs(train_x,n_rows)\n",
    "test_x = organize_inputs(test_x, n_rows)"
   ]
  },
  {
   "cell_type": "code",
   "execution_count": 251,
   "metadata": {},
   "outputs": [],
   "source": [
    "def split_outputs(outputs, n_rows):\n",
    "    trainInd =dat.Date< dt.datetime(2008, 1, 1)\n",
    "    trainY=outputs[trainInd]\n",
    "    trainY=trainY[167+n_rows:]\n",
    "    trainY=trainY.as_matrix(columns=None)\n",
    "    trainY = trainY.reshape((trainY.shape[0], 1))\n",
    "        \n",
    "    testInd = dat.Date>=dt.datetime(2009, 1, 1)\n",
    "    testY = outputs[testInd]\n",
    "    testY= testY[n_rows-1:]\n",
    "    testY = testY.as_matrix(columns=None)\n",
    "    testY=testY.reshape((testY.shape[0],1))\n",
    "    \n",
    "    return trainY, testY"
   ]
  },
  {
   "cell_type": "code",
   "execution_count": 252,
   "metadata": {},
   "outputs": [
    {
     "name": "stderr",
     "output_type": "stream",
     "text": [
      "C:\\Users\\afzal\\Anaconda3\\lib\\site-packages\\ipykernel_launcher.py:5: FutureWarning: Method .as_matrix will be removed in a future version. Use .values instead.\n",
      "  \"\"\"\n",
      "C:\\Users\\afzal\\Anaconda3\\lib\\site-packages\\ipykernel_launcher.py:11: FutureWarning: Method .as_matrix will be removed in a future version. Use .values instead.\n",
      "  # This is added back by InteractiveShellApp.init_path()\n"
     ]
    }
   ],
   "source": [
    "trainY,testY=split_outputs(dat['SYSLoad'],n_rows)\n"
   ]
  },
  {
   "cell_type": "code",
   "execution_count": 255,
   "metadata": {},
   "outputs": [],
   "source": [
    "n_timesteps, n_features = train_x.shape[1], train_x.shape[2]\n",
    "# reshape output into [samples, timesteps, features]\n",
    "#train_y = train_y.reshape((train_y.shape[0], train_y.shape[1], 1))\n",
    "# define model\n",
    "model = Sequential()\n",
    "model.add(LSTM(50, activation='relu', input_shape=(n_timesteps, n_features)))\n",
    "model.add(Dense(50,activation='relu'))\n",
    "model.add(Dense(1))\n",
    "\n",
    "model.compile(loss='mae', optimizer='adam')\n"
   ]
  },
  {
   "cell_type": "code",
   "execution_count": 256,
   "metadata": {},
   "outputs": [
    {
     "name": "stdout",
     "output_type": "stream",
     "text": [
      "Epoch 1/55\n",
      "34889/34889 [==============================] - 19s 543us/step - loss: 4493.6986\n",
      "Epoch 2/55\n",
      "34889/34889 [==============================] - 4s 109us/step - loss: 2044.0854\n",
      "Epoch 3/55\n",
      "34889/34889 [==============================] - 4s 110us/step - loss: 1773.3927\n",
      "Epoch 4/55\n",
      "34889/34889 [==============================] - 4s 109us/step - loss: 978.5642\n",
      "Epoch 5/55\n",
      "34889/34889 [==============================] - 4s 110us/step - loss: 591.7577\n",
      "Epoch 6/55\n",
      "34889/34889 [==============================] - 4s 109us/step - loss: 563.9559\n",
      "Epoch 7/55\n",
      "34889/34889 [==============================] - 4s 109us/step - loss: 530.4036\n",
      "Epoch 8/55\n",
      "34889/34889 [==============================] - 4s 108us/step - loss: 474.3731\n",
      "Epoch 9/55\n",
      "34889/34889 [==============================] - 4s 108us/step - loss: 413.2973 1\n",
      "Epoch 10/55\n",
      "34889/34889 [==============================] - 4s 108us/step - loss: 389.0932\n",
      "Epoch 11/55\n",
      "34889/34889 [==============================] - 4s 111us/step - loss: 371.9371\n",
      "Epoch 12/55\n",
      "34889/34889 [==============================] - 4s 109us/step - loss: 360.0182\n",
      "Epoch 13/55\n",
      "34889/34889 [==============================] - 4s 107us/step - loss: 351.3904\n",
      "Epoch 14/55\n",
      "34889/34889 [==============================] - 4s 107us/step - loss: 346.8310 0s - loss: 347.\n",
      "Epoch 15/55\n",
      "34889/34889 [==============================] - 4s 107us/step - loss: 329.8985\n",
      "Epoch 16/55\n",
      "34889/34889 [==============================] - 4s 107us/step - loss: 319.5878\n",
      "Epoch 17/55\n",
      "34889/34889 [==============================] - 4s 108us/step - loss: 304.1829\n",
      "Epoch 18/55\n",
      "34889/34889 [==============================] - 4s 109us/step - loss: 299.8522\n",
      "Epoch 19/55\n",
      "34889/34889 [==============================] - 4s 107us/step - loss: 287.6095\n",
      "Epoch 20/55\n",
      "34889/34889 [==============================] - 4s 106us/step - loss: 291.6263\n",
      "Epoch 21/55\n",
      "34889/34889 [==============================] - 4s 106us/step - loss: 277.2220\n",
      "Epoch 22/55\n",
      "34889/34889 [==============================] - 4s 108us/step - loss: 276.0276\n",
      "Epoch 23/55\n",
      "34889/34889 [==============================] - 4s 107us/step - loss: 275.2493\n",
      "Epoch 24/55\n",
      "34889/34889 [==============================] - 4s 107us/step - loss: 249.2965\n",
      "Epoch 25/55\n",
      "34889/34889 [==============================] - 4s 106us/step - loss: 243.1917\n",
      "Epoch 26/55\n",
      "34889/34889 [==============================] - 4s 107us/step - loss: 245.3392\n",
      "Epoch 27/55\n",
      "34889/34889 [==============================] - 4s 107us/step - loss: 247.7272\n",
      "Epoch 28/55\n",
      "34889/34889 [==============================] - 4s 106us/step - loss: 235.2202 0s - loss: 235.1\n",
      "Epoch 29/55\n",
      "34889/34889 [==============================] - 4s 106us/step - loss: 229.6839\n",
      "Epoch 30/55\n",
      "34889/34889 [==============================] - 4s 106us/step - loss: 228.5692\n",
      "Epoch 31/55\n",
      "34889/34889 [==============================] - 4s 107us/step - loss: 222.1376\n",
      "Epoch 32/55\n",
      "34889/34889 [==============================] - 4s 106us/step - loss: 228.3591\n",
      "Epoch 33/55\n",
      "34889/34889 [==============================] - 4s 106us/step - loss: 225.5962 0s -\n",
      "Epoch 34/55\n",
      "34889/34889 [==============================] - 4s 111us/step - loss: 225.6533\n",
      "Epoch 35/55\n",
      "34889/34889 [==============================] - 4s 109us/step - loss: 220.8725\n",
      "Epoch 36/55\n",
      "34889/34889 [==============================] - 4s 108us/step - loss: 220.3564\n",
      "Epoch 37/55\n",
      "34889/34889 [==============================] - 4s 108us/step - loss: 220.1917\n",
      "Epoch 38/55\n",
      "34889/34889 [==============================] - 4s 108us/step - loss: 221.5631\n",
      "Epoch 39/55\n",
      "34889/34889 [==============================] - 4s 108us/step - loss: 216.8913\n",
      "Epoch 40/55\n",
      "34889/34889 [==============================] - 4s 108us/step - loss: 212.4145\n",
      "Epoch 41/55\n",
      "34889/34889 [==============================] - 4s 109us/step - loss: 216.6671\n",
      "Epoch 42/55\n",
      "34889/34889 [==============================] - 4s 107us/step - loss: 212.7556\n",
      "Epoch 43/55\n",
      "34889/34889 [==============================] - 4s 111us/step - loss: 208.9419\n",
      "Epoch 44/55\n",
      "34889/34889 [==============================] - 4s 108us/step - loss: 203.7948\n",
      "Epoch 45/55\n",
      "34889/34889 [==============================] - 4s 108us/step - loss: 210.3826\n",
      "Epoch 46/55\n",
      "34889/34889 [==============================] - 4s 108us/step - loss: 203.2128\n",
      "Epoch 47/55\n",
      "34889/34889 [==============================] - 4s 107us/step - loss: 213.2948\n",
      "Epoch 48/55\n",
      "34889/34889 [==============================] - 4s 107us/step - loss: 216.6098\n",
      "Epoch 49/55\n",
      "34889/34889 [==============================] - 4s 107us/step - loss: 205.6077\n",
      "Epoch 50/55\n",
      "34889/34889 [==============================] - 4s 108us/step - loss: 203.6043\n",
      "Epoch 51/55\n",
      "34889/34889 [==============================] - 4s 107us/step - loss: 209.2045 1\n",
      "Epoch 52/55\n",
      "34889/34889 [==============================] - 4s 109us/step - loss: 209.2874\n",
      "Epoch 53/55\n",
      "34889/34889 [==============================] - 4s 111us/step - loss: 207.9668\n",
      "Epoch 54/55\n",
      "34889/34889 [==============================] - 4s 110us/step - loss: 372.1952\n",
      "Epoch 55/55\n",
      "34889/34889 [==============================] - 4s 110us/step - loss: 492.2772\n"
     ]
    },
    {
     "data": {
      "text/plain": [
       "224.61079621315002"
      ]
     },
     "execution_count": 256,
     "metadata": {},
     "output_type": "execute_result"
    }
   ],
   "source": [
    "start_time = time.time()\n",
    "model.fit(train_x, trainY, epochs=55, batch_size=250, verbose=1)\n",
    "time.time() - start_time"
   ]
  },
  {
   "cell_type": "code",
   "execution_count": null,
   "metadata": {},
   "outputs": [],
   "source": []
  },
  {
   "cell_type": "code",
   "execution_count": 158,
   "metadata": {},
   "outputs": [],
   "source": [
    "predictions=model.predict(test_x)"
   ]
  },
  {
   "cell_type": "code",
   "execution_count": 159,
   "metadata": {},
   "outputs": [
    {
     "data": {
      "text/plain": [
       "261.1444390835666"
      ]
     },
     "execution_count": 159,
     "metadata": {},
     "output_type": "execute_result"
    }
   ],
   "source": [
    "testY = testY.reshape((testY.shape[0], 1))\n",
    "error=testY-predictions\n",
    "mae=np.mean(np.absolute(error))\n",
    "mae"
   ]
  },
  {
   "cell_type": "code",
   "execution_count": 160,
   "metadata": {},
   "outputs": [
    {
     "data": {
      "text/plain": [
       "1.7561067644322217"
      ]
     },
     "execution_count": 160,
     "metadata": {},
     "output_type": "execute_result"
    }
   ],
   "source": [
    "errorpercent=np.absolute(error)/testY\n",
    "mape=np.mean(errorpercent)*100\n",
    "mape"
   ]
  },
  {
   "cell_type": "code",
   "execution_count": null,
   "metadata": {},
   "outputs": [],
   "source": []
  },
  {
   "cell_type": "code",
   "execution_count": null,
   "metadata": {},
   "outputs": [],
   "source": []
  },
  {
   "cell_type": "code",
   "execution_count": null,
   "metadata": {},
   "outputs": [],
   "source": []
  },
  {
   "cell_type": "code",
   "execution_count": null,
   "metadata": {},
   "outputs": [],
   "source": []
  },
  {
   "cell_type": "code",
   "execution_count": null,
   "metadata": {},
   "outputs": [],
   "source": []
  },
  {
   "cell_type": "code",
   "execution_count": 257,
   "metadata": {},
   "outputs": [
    {
     "data": {
      "text/plain": [
       "35.76562738418579"
      ]
     },
     "execution_count": 257,
     "metadata": {},
     "output_type": "execute_result"
    }
   ],
   "source": [
    "50.24953746795654\n",
    "(34.066816329956055+\n",
    "35.61914682388306+\n",
    "38.2979531288147+\n",
    "35.85555171966553+\n",
    "34.98866891860962)/5"
   ]
  },
  {
   "cell_type": "code",
   "execution_count": 258,
   "metadata": {},
   "outputs": [
    {
     "data": {
      "text/plain": [
       "64.29031829833984"
      ]
     },
     "execution_count": 258,
     "metadata": {},
     "output_type": "execute_result"
    }
   ],
   "source": [
    "(63.878042697906494+\n",
    "63.0877959728241+\n",
    "64.22768688201904+\n",
    "65.2805757522583+\n",
    "64.97749018669128)/5"
   ]
  },
  {
   "cell_type": "code",
   "execution_count": 259,
   "metadata": {},
   "outputs": [
    {
     "data": {
      "text/plain": [
       "81.86780014038087"
      ]
     },
     "execution_count": 259,
     "metadata": {},
     "output_type": "execute_result"
    }
   ],
   "source": [
    "(80.74736428260803+\n",
    "81.15298914909363+\n",
    "81.50050735473633+\n",
    "82.75677824020386+\n",
    "83.18136167526245)/5"
   ]
  },
  {
   "cell_type": "code",
   "execution_count": 260,
   "metadata": {},
   "outputs": [
    {
     "data": {
      "text/plain": [
       "99.7384826540947"
      ]
     },
     "execution_count": 260,
     "metadata": {},
     "output_type": "execute_result"
    }
   ],
   "source": [
    "(98.21234464645386+\n",
    "98.87372779846191+\n",
    "100.77370023727417+\n",
    "101.09415793418884)/4"
   ]
  },
  {
   "cell_type": "code",
   "execution_count": 261,
   "metadata": {},
   "outputs": [
    {
     "data": {
      "text/plain": [
       "119.49183233579"
      ]
     },
     "execution_count": 261,
     "metadata": {},
     "output_type": "execute_result"
    }
   ],
   "source": [
    "(120.23980164527893+\n",
    "118.64051413536072+\n",
    "119.59518122673035)/3"
   ]
  },
  {
   "cell_type": "code",
   "execution_count": 262,
   "metadata": {},
   "outputs": [
    {
     "data": {
      "text/plain": [
       "138.31859707832336"
      ]
     },
     "execution_count": 262,
     "metadata": {},
     "output_type": "execute_result"
    }
   ],
   "source": [
    "(135.87458419799805+\n",
    "138.94720888137817+\n",
    "140.13399815559387)/3"
   ]
  },
  {
   "cell_type": "code",
   "execution_count": 263,
   "metadata": {},
   "outputs": [
    {
     "data": {
      "text/plain": [
       "156.47616918881735"
      ]
     },
     "execution_count": 263,
     "metadata": {},
     "output_type": "execute_result"
    }
   ],
   "source": [
    "(157.0763120651245+\n",
    "154.95724439620972+\n",
    "157.3949511051178)/3"
   ]
  },
  {
   "cell_type": "code",
   "execution_count": 264,
   "metadata": {},
   "outputs": [
    {
     "data": {
      "text/plain": [
       "184.35605017344156"
      ]
     },
     "execution_count": 264,
     "metadata": {},
     "output_type": "execute_result"
    }
   ],
   "source": [
    "(174.51775908470154+\n",
    "188.9434506893158+\n",
    "189.60694074630737)/3"
   ]
  },
  {
   "cell_type": "code",
   "execution_count": 265,
   "metadata": {},
   "outputs": [
    {
     "data": {
      "text/plain": [
       "205.58919978141785"
      ]
     },
     "execution_count": 265,
     "metadata": {},
     "output_type": "execute_result"
    }
   ],
   "source": [
    "(188.72506046295166+\n",
    "206.4637429714203+\n",
    "206.5083785057068+\n",
    "220.65961718559265)/4"
   ]
  },
  {
   "cell_type": "code",
   "execution_count": 266,
   "metadata": {},
   "outputs": [
    {
     "data": {
      "text/plain": [
       "226.7532511552175"
      ]
     },
     "execution_count": 266,
     "metadata": {},
     "output_type": "execute_result"
    }
   ],
   "source": [
    "(224.48561239242554+\n",
    "228.6032943725586+\n",
    "227.17084670066833)/3"
   ]
  },
  {
   "cell_type": "code",
   "execution_count": 267,
   "metadata": {},
   "outputs": [
    {
     "data": {
      "text/plain": [
       "257.11844539642334"
      ]
     },
     "execution_count": 267,
     "metadata": {},
     "output_type": "execute_result"
    }
   ],
   "source": [
    "210.9065179824829\n",
    "213.29870319366455\n",
    "219.4241783618927\n",
    "\n",
    "(252.45973348617554+\n",
    "258.5893256664276+\n",
    "260.30627703666687)/3"
   ]
  },
  {
   "cell_type": "code",
   "execution_count": 268,
   "metadata": {},
   "outputs": [
    {
     "data": {
      "text/plain": [
       "278.3973403771718"
      ]
     },
     "execution_count": 268,
     "metadata": {},
     "output_type": "execute_result"
    }
   ],
   "source": [
    "(275.1976366043091+\n",
    "279.3067436218262+\n",
    "280.68764090538025)/3"
   ]
  },
  {
   "cell_type": "code",
   "execution_count": null,
   "metadata": {},
   "outputs": [],
   "source": []
  },
  {
   "cell_type": "code",
   "execution_count": null,
   "metadata": {},
   "outputs": [],
   "source": []
  }
 ],
 "metadata": {
  "kernelspec": {
   "display_name": "Python 3",
   "language": "python",
   "name": "python3"
  },
  "language_info": {
   "codemirror_mode": {
    "name": "ipython",
    "version": 3
   },
   "file_extension": ".py",
   "mimetype": "text/x-python",
   "name": "python",
   "nbconvert_exporter": "python",
   "pygments_lexer": "ipython3",
   "version": "3.6.8"
  }
 },
 "nbformat": 4,
 "nbformat_minor": 2
}
